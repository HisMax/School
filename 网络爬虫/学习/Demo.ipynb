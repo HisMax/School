{
 "cells": [
  {
   "cell_type": "code",
   "execution_count": null,
   "metadata": {},
   "outputs": [],
   "source": [
    "import requests as rq\n",
    "from bs4 import BeautifulSoup\n",
    "import re\n",
    "\n",
    "if __name__ == '__main__':\n",
    "    target = \"https://www.xbiquge.la/0/858/708546.html\"\n",
    "    req = rq.get(url = target)\n",
    "    req.encoding = 'utf-8'\n",
    "    html = req.text\n",
    "    con = BeautifulSoup(html,'lxml')\n",
    "    res = con.find('div',id='content')\n",
    "    res = re.split('(\\xa0\\xa0\\xa0\\xa0|\\r)',res.text)\n",
    "    ans=[]\n",
    "    for x in res:\n",
    "        if(x!='\\r' and x!='\\xa0'*4 and x!='' and x!=' '):\n",
    "            ans.append(x)\n",
    "    print(ans)"
   ]
  },
  {
   "cell_type": "code",
   "execution_count": null,
   "metadata": {},
   "outputs": [],
   "source": [
    "import requests as rq\n",
    "if __name__ == '__main__':\n",
    "    website = 'https://www.baidu.com'\n",
    "    req1 = rq.get(url = website)\n",
    "    req1.encoding = 'utf-8'\n",
    "    print(req1.text)\n"
   ]
  }
 ],
 "metadata": {
  "interpreter": {
   "hash": "a6c8cccf23fc189a51b8b2ae4ca3b98de763e12cce4f9033fe8d82721c91cecc"
  },
  "kernelspec": {
   "display_name": "Python 3.8.12 ('base')",
   "language": "python",
   "name": "python3"
  },
  "language_info": {
   "codemirror_mode": {
    "name": "ipython",
    "version": 3
   },
   "file_extension": ".py",
   "mimetype": "text/x-python",
   "name": "python",
   "nbconvert_exporter": "python",
   "pygments_lexer": "ipython3",
   "version": "3.8.12"
  },
  "orig_nbformat": 4
 },
 "nbformat": 4,
 "nbformat_minor": 2
}
