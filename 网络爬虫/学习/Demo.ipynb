{
 "cells": [
  {
   "cell_type": "code",
   "execution_count": null,
   "metadata": {},
   "outputs": [],
   "source": [
    "import requests as rq #网络请求基本库\n",
    "from bs4 import BeautifulSoup # 清洗网页数据的库\n",
    "import re # 正则表达式的库\n",
    "\n",
    "# 在新笔趣阁，爬一篇名叫《临高启明》的小说第一章\n",
    "if __name__ == '__main__':\n",
    "    target = \"https://www.xbiquge.la/0/858/708546.html\" # 网址\n",
    "    req = rq.get(url = target) # 用requests获取网页\n",
    "    req.encoding = 'utf-8'# 设置网页编码\n",
    "    html = req.text # 网页的html文件\n",
    "    # print(html)\n",
    "    con = BeautifulSoup(html,'lxml') # 利用soup库转换\n",
    "    res = con.find('div',id='content') # 进行数据筛选\n",
    "    # for p in res:\n",
    "    #     print(p)\n",
    "    res = re.split('(\\xa0\\xa0\\xa0\\xa0|\\r)',res.text) # 分割文本\n",
    "    ans=[]\n",
    "    for x in res: # 筛选文本\n",
    "        if(x!='\\r' and x!='\\xa0'*4 and x!='' and x!=' '):\n",
    "            ans.append(x)\n",
    "    print(ans)"
   ]
  },
  {
   "cell_type": "code",
   "execution_count": null,
   "metadata": {},
   "outputs": [],
   "source": [
    "# 更简单的一个例子\n",
    "import requests as rq\n",
    "if __name__ == '__main__':\n",
    "    website = 'https://www.baidu.com'\n",
    "    req1 = rq.get(url = website)\n",
    "    req1.encoding = 'utf-8'\n",
    "    print(req1.text)\n"
   ]
  }
 ],
 "metadata": {
  "interpreter": {
   "hash": "a6c8cccf23fc189a51b8b2ae4ca3b98de763e12cce4f9033fe8d82721c91cecc"
  },
  "kernelspec": {
   "display_name": "Python 3.8.12 ('base')",
   "language": "python",
   "name": "python3"
  },
  "language_info": {
   "codemirror_mode": {
    "name": "ipython",
    "version": 3
   },
   "file_extension": ".py",
   "mimetype": "text/x-python",
   "name": "python",
   "nbconvert_exporter": "python",
   "pygments_lexer": "ipython3",
   "version": "3.8.12"
  },
  "orig_nbformat": 4
 },
 "nbformat": 4,
 "nbformat_minor": 2
}
