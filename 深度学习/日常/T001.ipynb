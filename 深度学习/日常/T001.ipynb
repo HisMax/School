{
 "cells": [
  {
   "cell_type": "code",
   "execution_count": 1,
   "metadata": {},
   "outputs": [
    {
     "name": "stdout",
     "output_type": "stream",
     "text": [
      "tensor([[0.6054, 0.9425, 0.2271, 0.9820, 0.5712, 0.1021],\n",
      "        [0.1594, 0.1650, 0.7790, 0.4353, 0.9686, 0.8008],\n",
      "        [0.4166, 0.7109, 0.2115, 0.3037, 0.8605, 0.5731],\n",
      "        [0.6830, 0.4746, 0.6436, 0.9940, 0.7133, 0.4708],\n",
      "        [0.6369, 0.6278, 0.3372, 0.4690, 0.1788, 0.9052]])\n"
     ]
    }
   ],
   "source": [
    "import torch\n",
    "torch.cuda.is_available() #代表显卡是否可用\n",
    "torch.cuda.device_count() #检测显卡的数量\n",
    "torch.cuda.get_device_name(0) #最后查看一下咱们显卡的名字\n",
    "x = torch.rand(5,6)\n",
    "print(x)"
   ]
  },
  {
   "cell_type": "markdown",
   "metadata": {},
   "source": [
    "首先导入Pytorch的库，然后我们用下面代码来测试咱们的显卡是否可用\n",
    "\n",
    "如果显示 `False`，可以先去检查显卡型号是否支持Pytorch\n",
    "\n",
    "如果支持，就去更新一下显卡驱动，说不定是因为驱动太老的缘故"
   ]
  },
  {
   "cell_type": "code",
   "execution_count": 2,
   "metadata": {},
   "outputs": [
    {
     "data": {
      "text/plain": [
       "True"
      ]
     },
     "execution_count": 2,
     "metadata": {},
     "output_type": "execute_result"
    }
   ],
   "source": [
    "torch.cuda.is_available() #代表显卡是否可用"
   ]
  },
  {
   "cell_type": "code",
   "execution_count": 3,
   "metadata": {},
   "outputs": [
    {
     "data": {
      "text/plain": [
       "1"
      ]
     },
     "execution_count": 3,
     "metadata": {},
     "output_type": "execute_result"
    }
   ],
   "source": [
    "torch.cuda.device_count() #检测显卡的数量"
   ]
  },
  {
   "cell_type": "code",
   "execution_count": 4,
   "metadata": {},
   "outputs": [
    {
     "data": {
      "text/plain": [
       "'NVIDIA GeForce GTX 960M'"
      ]
     },
     "execution_count": 4,
     "metadata": {},
     "output_type": "execute_result"
    }
   ],
   "source": [
    "torch.cuda.get_device_name(0) #最后查看一下咱们显卡的名字"
   ]
  },
  {
   "cell_type": "markdown",
   "metadata": {},
   "source": [
    "在确认我们的显卡可以使用后，我们来看一下Pytorch的一些基础语法\n",
    "\n",
    "---"
   ]
  },
  {
   "cell_type": "markdown",
   "metadata": {},
   "source": [
    "torch.rand()随机化一个 5 $\\times$ 6 的矩阵"
   ]
  },
  {
   "cell_type": "code",
   "execution_count": 5,
   "metadata": {},
   "outputs": [
    {
     "name": "stdout",
     "output_type": "stream",
     "text": [
      "tensor([[0.6552, 0.9870, 0.4958, 0.3635, 0.4721, 0.1429],\n",
      "        [0.9073, 0.2979, 0.4702, 0.9344, 0.3838, 0.6681],\n",
      "        [0.5420, 0.9571, 0.1718, 0.7732, 0.5532, 0.6224],\n",
      "        [0.6138, 0.3082, 0.2103, 0.8417, 0.7497, 0.7415],\n",
      "        [0.1941, 0.3484, 0.6971, 0.0189, 0.8726, 0.1769]])\n"
     ]
    }
   ],
   "source": [
    "x = torch.rand(5,6)\n",
    "print(x)"
   ]
  },
  {
   "cell_type": "markdown",
   "metadata": {},
   "source": [
    "torch.ones()初始化一个 5 $\\times$ 6 的矩阵，值全部为1"
   ]
  },
  {
   "cell_type": "code",
   "execution_count": 6,
   "metadata": {},
   "outputs": [
    {
     "name": "stdout",
     "output_type": "stream",
     "text": [
      "tensor([[1., 1., 1., 1., 1., 1.],\n",
      "        [1., 1., 1., 1., 1., 1.],\n",
      "        [1., 1., 1., 1., 1., 1.],\n",
      "        [1., 1., 1., 1., 1., 1.],\n",
      "        [1., 1., 1., 1., 1., 1.]])\n"
     ]
    }
   ],
   "source": [
    "x = torch.ones(5,6)\n",
    "print(x)"
   ]
  },
  {
   "cell_type": "markdown",
   "metadata": {},
   "source": [
    "torch.zeros()初始化一个 4 $\\times$ 4 的矩阵，值全部为0"
   ]
  },
  {
   "cell_type": "code",
   "execution_count": 7,
   "metadata": {},
   "outputs": [
    {
     "name": "stdout",
     "output_type": "stream",
     "text": [
      "tensor([[0., 0., 0., 0.],\n",
      "        [0., 0., 0., 0.],\n",
      "        [0., 0., 0., 0.],\n",
      "        [0., 0., 0., 0.]])\n"
     ]
    }
   ],
   "source": [
    "x = torch.zeros(4,4)\n",
    "print(x)"
   ]
  },
  {
   "cell_type": "code",
   "execution_count": null,
   "metadata": {},
   "outputs": [],
   "source": []
  }
 ],
 "metadata": {
  "interpreter": {
   "hash": "a6c8cccf23fc189a51b8b2ae4ca3b98de763e12cce4f9033fe8d82721c91cecc"
  },
  "kernelspec": {
   "display_name": "Python 3.8.12 ('base')",
   "language": "python",
   "name": "python3"
  },
  "language_info": {
   "codemirror_mode": {
    "name": "ipython",
    "version": 3
   },
   "file_extension": ".py",
   "mimetype": "text/x-python",
   "name": "python",
   "nbconvert_exporter": "python",
   "pygments_lexer": "ipython3",
   "version": "3.8.12"
  },
  "orig_nbformat": 4
 },
 "nbformat": 4,
 "nbformat_minor": 2
}
