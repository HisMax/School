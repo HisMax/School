{
 "cells": [
  {
   "cell_type": "code",
   "execution_count": 1,
   "metadata": {},
   "outputs": [
    {
     "name": "stdout",
     "output_type": "stream",
     "text": [
      "tensor([[0.5267, 0.0657, 0.3071, 0.7497, 0.3072, 0.4728],\n",
      "        [0.8234, 0.2056, 0.8541, 0.3286, 0.3222, 0.5401],\n",
      "        [0.2645, 0.6236, 0.9254, 0.7672, 0.3723, 0.2386],\n",
      "        [0.5234, 0.6438, 0.4987, 0.4857, 0.8132, 0.2906],\n",
      "        [0.5919, 0.2128, 0.0605, 0.5449, 0.8950, 0.1822]])\n"
     ]
    }
   ],
   "source": [
    "import torch\n",
    "torch.cuda.is_available() #代表显卡是否可用\n",
    "torch.cuda.device_count() #检测显卡的数量\n",
    "torch.cuda.get_device_name(0) #最后查看一下咱们显卡的名字\n",
    "x = torch.rand(5,6)\n",
    "print(x)"
   ]
  },
  {
   "cell_type": "markdown",
   "metadata": {},
   "source": [
    "首先导入Pytorch的库，然后我们用下面代码来测试咱们的显卡是否可用\n",
    "\n",
    "如果显示 `False`，可以先去检查显卡型号是否支持Pytorch\n",
    "\n",
    "如果支持，就去更新一下显卡驱动，说不定是因为驱动太老的缘故"
   ]
  },
  {
   "cell_type": "code",
   "execution_count": 2,
   "metadata": {},
   "outputs": [
    {
     "data": {
      "text/plain": [
       "True"
      ]
     },
     "execution_count": 2,
     "metadata": {},
     "output_type": "execute_result"
    }
   ],
   "source": [
    "torch.cuda.is_available() #代表显卡是否可用"
   ]
  },
  {
   "cell_type": "code",
   "execution_count": 3,
   "metadata": {},
   "outputs": [
    {
     "data": {
      "text/plain": [
       "1"
      ]
     },
     "execution_count": 3,
     "metadata": {},
     "output_type": "execute_result"
    }
   ],
   "source": [
    "torch.cuda.device_count() #检测显卡的数量"
   ]
  },
  {
   "cell_type": "code",
   "execution_count": 4,
   "metadata": {},
   "outputs": [
    {
     "data": {
      "text/plain": [
       "'NVIDIA GeForce GTX 960M'"
      ]
     },
     "execution_count": 4,
     "metadata": {},
     "output_type": "execute_result"
    }
   ],
   "source": [
    "torch.cuda.get_device_name(0) #最后查看一下咱们显卡的名字"
   ]
  },
  {
   "cell_type": "markdown",
   "metadata": {},
   "source": [
    "在确认我们的显卡可以使用后，我们来看一下Pytorch的一些基础语法\n",
    "\n",
    "---"
   ]
  },
  {
   "cell_type": "markdown",
   "metadata": {},
   "source": [
    "torch.rand()随机化一个 5 $\\times$ 6 的矩阵"
   ]
  },
  {
   "cell_type": "code",
   "execution_count": 5,
   "metadata": {},
   "outputs": [
    {
     "name": "stdout",
     "output_type": "stream",
     "text": [
      "tensor([[0.6852, 0.2343, 0.5173, 0.1813, 0.7338, 0.1112],\n",
      "        [0.0158, 0.9812, 0.0948, 0.5431, 0.7804, 0.5421],\n",
      "        [0.6776, 0.7374, 0.8789, 0.3494, 0.1321, 0.7051],\n",
      "        [0.2467, 0.5686, 0.5608, 0.7104, 0.4090, 0.3330],\n",
      "        [0.0661, 0.6282, 0.3280, 0.1022, 0.1161, 0.7491]])\n"
     ]
    }
   ],
   "source": [
    "x = torch.rand(5,6)\n",
    "print(x)"
   ]
  },
  {
   "cell_type": "markdown",
   "metadata": {},
   "source": [
    "torch.ones()初始化一个 5 $\\times$ 6 的矩阵，值全部为1"
   ]
  },
  {
   "cell_type": "code",
   "execution_count": 6,
   "metadata": {},
   "outputs": [
    {
     "name": "stdout",
     "output_type": "stream",
     "text": [
      "tensor([[1., 1., 1., 1., 1., 1.],\n",
      "        [1., 1., 1., 1., 1., 1.],\n",
      "        [1., 1., 1., 1., 1., 1.],\n",
      "        [1., 1., 1., 1., 1., 1.],\n",
      "        [1., 1., 1., 1., 1., 1.]])\n"
     ]
    }
   ],
   "source": [
    "x = torch.ones(5,6)\n",
    "print(x)"
   ]
  },
  {
   "cell_type": "markdown",
   "metadata": {},
   "source": [
    "torch.zeros()初始化一个 4 $\\times$ 4 的矩阵，值全部为0"
   ]
  },
  {
   "cell_type": "code",
   "execution_count": 7,
   "metadata": {},
   "outputs": [
    {
     "name": "stdout",
     "output_type": "stream",
     "text": [
      "tensor([[0., 0., 0., 0.],\n",
      "        [0., 0., 0., 0.],\n",
      "        [0., 0., 0., 0.],\n",
      "        [0., 0., 0., 0.]])\n"
     ]
    }
   ],
   "source": [
    "x = torch.zeros(4,4)\n",
    "print(x)"
   ]
  },
  {
   "cell_type": "code",
   "execution_count": null,
   "metadata": {},
   "outputs": [],
   "source": []
  }
 ],
 "metadata": {
  "interpreter": {
   "hash": "a6c8cccf23fc189a51b8b2ae4ca3b98de763e12cce4f9033fe8d82721c91cecc"
  },
  "kernelspec": {
   "display_name": "Python 3.8.12 ('base')",
   "language": "python",
   "name": "python3"
  },
  "language_info": {
   "codemirror_mode": {
    "name": "ipython",
    "version": 3
   },
   "file_extension": ".py",
   "mimetype": "text/x-python",
   "name": "python",
   "nbconvert_exporter": "python",
   "pygments_lexer": "ipython3",
   "version": "3.8.13"
  },
  "orig_nbformat": 4
 },
 "nbformat": 4,
 "nbformat_minor": 2
}
